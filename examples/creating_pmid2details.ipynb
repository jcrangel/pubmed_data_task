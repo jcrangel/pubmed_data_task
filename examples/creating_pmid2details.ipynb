{
 "cells": [
  {
   "cell_type": "code",
   "execution_count": null,
   "metadata": {},
   "outputs": [],
   "source": [
    "import config\n",
    "import pickle\n"
   ]
  },
  {
   "cell_type": "code",
   "execution_count": null,
   "metadata": {},
   "outputs": [],
   "source": [
    "pmid2details = create_pmid2details(config.PUBMED_RAW_PATH)\n",
    "print('saving file pmid2details.pickle')\n",
    "handle = open('pmid2details.pickle', 'wb')\n",
    "pickle.dump(pmid2details, handle, protocol=pickle.HIGHEST_PROTOCOL)\n",
    "\n"
   ]
  }
 ],
 "metadata": {
  "language_info": {
   "name": "python"
  },
  "orig_nbformat": 4
 },
 "nbformat": 4,
 "nbformat_minor": 2
}
