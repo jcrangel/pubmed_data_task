{
 "cells": [
  {
   "cell_type": "code",
   "execution_count": 1,
   "metadata": {},
   "outputs": [],
   "source": [
    "%load_ext autoreload\n",
    "%autoreload 2"
   ]
  },
  {
   "cell_type": "code",
   "execution_count": 2,
   "metadata": {},
   "outputs": [],
   "source": [
    "import pickle\n",
    "from pubmed_data_task.dataset_creator import create_pmid2info\n",
    "from pubmed_data_task import config"
   ]
  },
  {
   "cell_type": "code",
   "execution_count": 3,
   "metadata": {},
   "outputs": [
    {
     "name": "stdout",
     "output_type": "stream",
     "text": [
      "loading pmid2entities\n",
      "loading pmid2details\n",
      "loading pmid2abstract_morethan10\n"
     ]
    },
    {
     "name": "stderr",
     "output_type": "stream",
     "text": [
      "100%|██████████| 21167247/21167247 [01:02<00:00, 246252.21it/s]"
     ]
    },
    {
     "name": "stdout",
     "output_type": "stream",
     "text": [
      "saving file pmid2info.pickle\n"
     ]
    }
   ],
   "source": [
    "pmid2info = create_pmid2info()\n",
    "print('saving file pmid2info.pickle')\n",
    "handle = open('pmid2info.pickle', 'wb')\n",
    "pickle.dump(pmid2info, handle, protocol=pickle.HIGHEST_PROTOCOL)\n",
    "\n"
   ]
  },
  {
   "cell_type": "markdown",
   "metadata": {},
   "source": []
  }
 ],
 "metadata": {
  "interpreter": {
   "hash": "f7111a28d93937e44de81b263355d7295881e69712709cd005f9d5c465abfe2b"
  },
  "kernelspec": {
   "display_name": "Python 3.8.5 64-bit ('ontonerd': conda)",
   "name": "python3"
  },
  "language_info": {
   "codemirror_mode": {
    "name": "ipython",
    "version": 3
   },
   "file_extension": ".py",
   "mimetype": "text/x-python",
   "name": "python",
   "nbconvert_exporter": "python",
   "pygments_lexer": "ipython3",
   "version": "3.8.5"
  },
  "orig_nbformat": 4
 },
 "nbformat": 4,
 "nbformat_minor": 2
}
