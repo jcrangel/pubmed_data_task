{
 "metadata": {
  "language_info": {
   "codemirror_mode": {
    "name": "ipython",
    "version": 3
   },
   "file_extension": ".py",
   "mimetype": "text/x-python",
   "name": "python",
   "nbconvert_exporter": "python",
   "pygments_lexer": "ipython3",
   "version": "3.8.5-final"
  },
  "orig_nbformat": 2,
  "kernelspec": {
   "name": "pytorch",
   "display_name": "Python 3.8.5 64-bit ('pytorch': conda)"
  }
 },
 "nbformat": 4,
 "nbformat_minor": 2,
 "cells": [
  {
   "cell_type": "code",
   "execution_count": 27,
   "metadata": {},
   "outputs": [
    {
     "output_type": "stream",
     "name": "stdout",
     "text": [
      "The autoreload extension is already loaded. To reload it, use:\n  %reload_ext autoreload\n"
     ]
    }
   ],
   "source": [
    "%load_ext autoreload\n",
    "%autoreload 2\n",
    "import pandas as pd\n",
    "import numpy as np\n",
    "import time\n",
    "import dask.bag as db\n",
    "import pickle5 as pickle\n",
    "from dask.diagnostics import ProgressBar\n"
   ]
  },
  {
   "cell_type": "code",
   "execution_count": 28,
   "metadata": {},
   "outputs": [],
   "source": [
    "# df = pd.read_csv('../data/Bio_entities_Main.csv', blocksize=16 * 1024 * 1024)\n",
    "from dask.diagnostics import ProgressBar\n",
    "import dask.bag as db"
   ]
  },
  {
   "cell_type": "code",
   "execution_count": 38,
   "metadata": {},
   "outputs": [],
   "source": [
    "def create_entities_dict(chunk):\n",
    "    \"\"\"\n",
    "\n",
    "        colums are       PMID       Start  End  EntityID\n",
    "    chunk is :\n",
    "\n",
    "array([[    30941,         0,         7,   4167203],\n",
    "       [    30941,       333,       335, 292621503],\n",
    "       [    30941,       344,       365, 271302003],\n",
    "       [    30941,       625,       632,   4167203],\n",
    "    \"\"\"\n",
    "    PMID=0\n",
    "    START=1\n",
    "    END = 2\n",
    "    ENTITYID=3\n",
    "    doc_entity_count = {}\n",
    "    for i in range(len(chunk)):\n",
    "        # pbar.update(1)\n",
    "        # print(row)\n",
    "        Pmid = chunk[i][PMID] #int(row.PMID)\n",
    "        EntityID = chunk[i][START] #int(row.EntityID)\n",
    "        Start = chunk[i][END] #int(row.Start)\n",
    "        End = chunk[i][ENTITYID] # int(row.End)\n",
    "        #ignore mentions with no entityID\n",
    "        if EntityID == 0 or EntityID =='0':\n",
    "            continue\n",
    "        #new pmid        \n",
    "        if Pmid not in doc_entity_count:    \n",
    "            #init mention\n",
    "            doc_entity_count[Pmid] = {EntityID: [[Start],[End]] }\n",
    "            continue\n",
    "        #\n",
    "        # PMID exits in catalog but the entityID found is new    \n",
    "        if EntityID not in doc_entity_count[Pmid]:\n",
    "            doc_entity_count[Pmid][EntityID]={}\n",
    "            # doc_entity_count[Pmid][EntityID]['count'] = 1\n",
    "            doc_entity_count[Pmid][EntityID] = [[Start], [End]]\n",
    "        else:#Increase counter\n",
    "            # doc_entity_count[Pmid][EntityID]['count'] += 1\n",
    "            doc_entity_count[Pmid][EntityID][0].append(Start)\n",
    "            doc_entity_count[Pmid][EntityID][1].append(End)\n",
    "    \n",
    "    return doc_entity_count"
   ]
  },
  {
   "cell_type": "code",
   "execution_count": 39,
   "metadata": {},
   "outputs": [],
   "source": [
    "df = pd.read_csv('../data/Bio_entities_small.csv',usecols=['PMID','Start','End','EntityID'])\n",
    "df = df[df.EntityID != 0]\n",
    "data = df.to_numpy()\n"
   ]
  },
  {
   "cell_type": "code",
   "execution_count": 40,
   "metadata": {},
   "outputs": [
    {
     "output_type": "stream",
     "name": "stdout",
     "text": [
      "CPU times: user 763 ms, sys: 71.9 ms, total: 835 ms\nWall time: 837 ms\n"
     ]
    }
   ],
   "source": [
    "%%time\n",
    "tmp_d = create_entities_dict(data)"
   ]
  },
  {
   "cell_type": "code",
   "execution_count": 49,
   "metadata": {},
   "outputs": [
    {
     "output_type": "execute_result",
     "data": {
      "text/plain": [
       "{18: [[25], [4631803]],\n",
       " 31: [[40], [44532203]],\n",
       " 50: [[57], [4631803]],\n",
       " 59: [[68], [44532203]],\n",
       " 281: [[288], [4631803]],\n",
       " 407: [[416], [44532203]],\n",
       " 538: [[545], [4631803]],\n",
       " 558: [[567], [44532203]],\n",
       " 640: [[647], [4631803]],\n",
       " 685: [[692], [4631803]],\n",
       " 719: [[728], [44532203]],\n",
       " 850: [[857], [4631803]],\n",
       " 925: [[932], [4631803]],\n",
       " 999: [[1006], [4631803]],\n",
       " 1241: [[1248], [4631803]],\n",
       " 1319: [[1328], [44532203]],\n",
       " 1439: [[1446], [4631803]],\n",
       " 1450: [[1459], [44532203]],\n",
       " 1495: [[1504], [44532203]],\n",
       " 1546: [[1553], [4631803]],\n",
       " 1582: [[1589], [4631803]],\n",
       " 1600: [[1609], [44532203]],\n",
       " 1698: [[1707], [44532203]],\n",
       " 1713: [[1720], [4631803]],\n",
       " 1831: [[1840], [44532203]],\n",
       " 1850: [[1857], [4631803]],\n",
       " 225: [[238], [840105]]}"
      ]
     },
     "metadata": {},
     "execution_count": 49
    }
   ],
   "source": [
    "tmp_d[30941]"
   ]
  },
  {
   "cell_type": "code",
   "execution_count": 53,
   "metadata": {},
   "outputs": [
    {
     "output_type": "stream",
     "name": "stdout",
     "text": [
      "(40301971, 4)\n",
      "[########################################] | 100% Completed |  5min 51.6s\n",
      "403019\n",
      "(39763503, 4)\n",
      "[########################################] | 100% Completed |  6min 24.8s\n",
      "397635\n",
      "(40035951, 4)\n",
      "[########################################] | 100% Completed |  7min 12.1s\n",
      "400359\n",
      "(40125227, 4)\n",
      "[########################################] | 100% Completed |  5min 30.2s\n",
      "401252\n",
      "(40132144, 4)\n",
      "[########################################] | 100% Completed |  6min 30.1s\n",
      "401321\n",
      "(40778145, 4)\n",
      "[########################################] | 100% Completed |  7min 48.3s\n",
      "407781\n",
      "(24167223, 4)\n",
      "[########################################] | 100% Completed |  9min  3.1s\n",
      "241672\n",
      "CPU times: user 47min 21s, sys: 14min 44s, total: 1h 2min 6s\n",
      "Wall time: 1h 2min 19s\n"
     ]
    }
   ],
   "source": [
    "%%time\n",
    "results = {}\n",
    "CHUNK_SIZE =50000000 \n",
    "for df in pd.read_csv('../data/Bio_entities_Main.csv',usecols=['Start','End', 'EntityID', 'PMID'], iterator=True, chunksize=CHUNK_SIZE):\n",
    "\n",
    "# for df in pd.read_csv( '../data/Bio_entities_small.csv', usecols=['Start','End', 'EntityID', 'PMID'], iterator=True ):\n",
    "\n",
    "    df = df[df.EntityID != 0]\n",
    "    data = df.to_numpy()\n",
    "    print(data.shape)\n",
    "    # print(data[:10])\n",
    "\n",
    "    _CHUNK_SIZE = int(data.shape[0]/100)\n",
    "    chunks = np.array_split(data, _CHUNK_SIZE, axis=0)\n",
    "    len(chunks)\n",
    "    del data\n",
    "\n",
    "    mybag = db.from_sequence(chunks)\n",
    "    with ProgressBar():\n",
    "        myresult = mybag.map(create_entities_dict).compute()\n",
    "\n",
    "    # import pdb; pdb.set_trace()\n",
    "    print(len(myresult))\n",
    "    #flatten list\n",
    "    result = {}\n",
    "    for lis in myresult:\n",
    "        result.update(lis)\n",
    "\n",
    "    results.update(result)\n",
    "    # print(len(result))\n",
    "    # results.append(myresult)"
   ]
  },
  {
   "cell_type": "code",
   "execution_count": 55,
   "metadata": {},
   "outputs": [
    {
     "output_type": "execute_result",
     "data": {
      "text/plain": [
       "{333: [[335], [292621503]],\n",
       " 344: [[365], [271302003]],\n",
       " 625: [[632], [4167203]],\n",
       " 810: [[813], [314219703]],\n",
       " 833: [[834], [301100803]],\n",
       " 843: [[850], [4167203]],\n",
       " 1080: [[1087], [4167203]],\n",
       " 1158: [[1159], [301100803]],\n",
       " 1195: [[1196], [301100803]],\n",
       " 446: [[449], [323589602]],\n",
       " 722: [[725], [323589602]],\n",
       " 763: [[764], [326403902]],\n",
       " 40: [[44], [960605]],\n",
       " 146: [[150], [960605]],\n",
       " 190: [[194], [960605]]}"
      ]
     },
     "metadata": {},
     "execution_count": 55
    }
   ],
   "source": [
    "results[30941]"
   ]
  },
  {
   "cell_type": "code",
   "execution_count": 51,
   "metadata": {},
   "outputs": [
    {
     "output_type": "execute_result",
     "data": {
      "text/plain": [
       "False"
      ]
     },
     "metadata": {},
     "execution_count": 51
    }
   ],
   "source": [
    "#Seems that something is fishy\n",
    "#results == tmp_d"
   ]
  },
  {
   "cell_type": "code",
   "execution_count": 8,
   "metadata": {},
   "outputs": [],
   "source": [
    "import bz2"
   ]
  },
  {
   "cell_type": "code",
   "execution_count": 56,
   "metadata": {},
   "outputs": [],
   "source": [
    "handle = bz2.BZ2File('pmid2entities.bz2', 'w')\n",
    "pickle.dump(results, handle,\n",
    "                protocol = pickle.HIGHEST_PROTOCOL)"
   ]
  },
  {
   "cell_type": "code",
   "execution_count": 57,
   "metadata": {},
   "outputs": [
    {
     "output_type": "stream",
     "name": "stdout",
     "text": [
      "CPU times: user 25min 1s, sys: 3min 37s, total: 28min 38s\nWall time: 28min 37s\n"
     ]
    }
   ],
   "source": [
    "%%time\n",
    "handle = bz2.BZ2File('pmid2entities.bz2','r')\n",
    "pmid2entities = pickle.load(handle)"
   ]
  },
  {
   "cell_type": "code",
   "execution_count": 11,
   "metadata": {},
   "outputs": [
    {
     "output_type": "execute_result",
     "data": {
      "text/plain": [
       "{4167203: [[0, 625, 843, 1080], [7, 632, 850, 1087]],\n",
       " 292621503: [[333], [335]],\n",
       " 271302003: [[344], [365]],\n",
       " 314219703: [[810], [813]],\n",
       " 301100803: [[833, 1158, 1195], [834, 1159, 1196]],\n",
       " 323589602: [[446, 722], [449, 725]],\n",
       " 326403902: [[763], [764]],\n",
       " 960605: [[40, 146, 190], [44, 150, 194]]}"
      ]
     },
     "metadata": {},
     "execution_count": 11
    }
   ],
   "source": [
    "pmid2entities[30941]"
   ]
  },
  {
   "cell_type": "code",
   "execution_count": null,
   "metadata": {},
   "outputs": [],
   "source": []
  }
 ]
}