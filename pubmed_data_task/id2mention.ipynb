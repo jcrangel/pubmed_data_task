{
 "metadata": {
  "language_info": {
   "codemirror_mode": {
    "name": "ipython",
    "version": 3
   },
   "file_extension": ".py",
   "mimetype": "text/x-python",
   "name": "python",
   "nbconvert_exporter": "python",
   "pygments_lexer": "ipython3",
   "version": "3.8.5-final"
  },
  "orig_nbformat": 2,
  "kernelspec": {
   "name": "python3",
   "display_name": "Python 3.8.5 64-bit ('pytorch': conda)",
   "metadata": {
    "interpreter": {
     "hash": "9dc1bd4b456cee9272a4e00d4ac4beae8434a75f32ad9ad820506d2b366c62cd"
    }
   }
  }
 },
 "nbformat": 4,
 "nbformat_minor": 2,
 "cells": [
  {
   "cell_type": "code",
   "execution_count": 1,
   "metadata": {},
   "outputs": [],
   "source": [
    "import pickle5 as pickle"
   ]
  },
  {
   "cell_type": "code",
   "execution_count": 2,
   "metadata": {},
   "outputs": [],
   "source": [
    "handle = open('term2entities_freq.pickle','rb')\n",
    "mention2id = pickle.load(handle)"
   ]
  },
  {
   "cell_type": "code",
   "execution_count": 4,
   "metadata": {},
   "outputs": [
    {
     "output_type": "execute_result",
     "data": {
      "text/plain": [
       "{'entities': [292621503, 324960002], 'num_entity': [151079, 61], 'num': 151140}"
      ]
     },
     "metadata": {},
     "execution_count": 4
    }
   ],
   "source": [
    "mention2id['CO2']"
   ]
  },
  {
   "cell_type": "code",
   "execution_count": 10,
   "metadata": {},
   "outputs": [
    {
     "output_type": "stream",
     "name": "stdout",
     "text": [
      "Chloride {'entities': [4167203], 'num_entity': [3806], 'num': 3806}\nCO2 {'entities': [292621503, 324960002], 'num_entity': [151079, 61], 'num': 151140}\n2,3 diphosphoglycerate {'entities': [271302003], 'num_entity': [93], 'num': 93}\nchloride {'entities': [4167203, 254493001], 'num_entity': [78637, 2], 'num': 78639}\nNaCl {'entities': [314219703], 'num_entity': [109044], 'num': 109044}\nO2 {'entities': [301100803], 'num_entity': [124685], 'num': 124685}\nHbA1 {'entities': [323589602], 'num_entity': [3600], 'num': 3600}\nHb {'entities': [326403902, 285682203, 258548801, 325359302, 323620802, 323589802, 323590402, 323590602, 322738802], 'num_entity': [61864, 29, 38, 21, 12, 4, 2, 34, 1], 'num': 62005}\nhuman {'entities': [960605, 107501001], 'num_entity': [4122836, 1846], 'num': 4124682}\nprocaine {'entities': [4631803], 'num_entity': [6381], 'num': 6381}\n"
     ]
    }
   ],
   "source": [
    "id2mention = {}\n",
    "debug_i = 0\n",
    "for mention,v in mention2id.items():\n",
    "    for i,id in enumerate(v['entities']):\n",
    "        #is the first time we se the id\n",
    "        mention2freq = {}\n",
    "        if id not in id2mention:\n",
    "            mention2freq[mention] = v['num_entity'][i]\n",
    "            id2mention[id] = mention2freq\n",
    "        else:\n",
    "            if mention not in id2mention[id]:\n",
    "                 mention2freq[mention] = v['num_entity'][i]\n",
    "                 id2mention[id] = mention2freq\n",
    "            # else:\n",
    "            #     #increase the frequency\n",
    "            #     id2mention[id][mention] += v['num_entity'][i]\n",
    "\n",
    "    \n",
    "    debug_i += 1\n",
    "    print(mention,v)\n",
    "    if debug_i == 10:\n",
    "        break\n",
    "\n",
    "\n"
   ]
  },
  {
   "cell_type": "code",
   "execution_count": 11,
   "metadata": {},
   "outputs": [
    {
     "output_type": "execute_result",
     "data": {
      "text/plain": [
       "{4167203: {'chloride': 78637},\n",
       " 292621503: {'CO2': 151079},\n",
       " 324960002: {'CO2': 61},\n",
       " 271302003: {'2,3 diphosphoglycerate': 93},\n",
       " 254493001: {'chloride': 2},\n",
       " 314219703: {'NaCl': 109044},\n",
       " 301100803: {'O2': 124685},\n",
       " 323589602: {'HbA1': 3600},\n",
       " 326403902: {'Hb': 61864},\n",
       " 285682203: {'Hb': 29},\n",
       " 258548801: {'Hb': 38},\n",
       " 325359302: {'Hb': 21},\n",
       " 323620802: {'Hb': 12},\n",
       " 323589802: {'Hb': 4},\n",
       " 323590402: {'Hb': 2},\n",
       " 323590602: {'Hb': 34},\n",
       " 322738802: {'Hb': 1},\n",
       " 960605: {'human': 4122836},\n",
       " 107501001: {'human': 1846},\n",
       " 4631803: {'procaine': 6381}}"
      ]
     },
     "metadata": {},
     "execution_count": 11
    }
   ],
   "source": [
    "id2mention"
   ]
  },
  {
   "cell_type": "code",
   "execution_count": null,
   "metadata": {},
   "outputs": [],
   "source": []
  }
 ]
}